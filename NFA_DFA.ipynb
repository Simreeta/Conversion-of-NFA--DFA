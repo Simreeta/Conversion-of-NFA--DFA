{
  "nbformat": 4,
  "nbformat_minor": 0,
  "metadata": {
    "colab": {
      "name": "NFA-DFA.ipynb",
      "provenance": [],
      "collapsed_sections": [],
      "authorship_tag": "ABX9TyMwMM1YTs45H/iOSyQMXDdo",
      "include_colab_link": true
    },
    "kernelspec": {
      "name": "python3",
      "display_name": "Python 3"
    }
  },
  "cells": [
    {
      "cell_type": "markdown",
      "metadata": {
        "id": "view-in-github",
        "colab_type": "text"
      },
      "source": [
        "<a href=\"https://colab.research.google.com/github/Simreeta/Conversion-of-NFA--DFA/blob/main/NFA_DFA.ipynb\" target=\"_parent\"><img src=\"https://colab.research.google.com/assets/colab-badge.svg\" alt=\"Open In Colab\"/></a>"
      ]
    },
    {
      "cell_type": "code",
      "metadata": {
        "colab": {
          "base_uri": "https://localhost:8080/"
        },
        "id": "4s7a16JnuJCM",
        "outputId": "39f963b0-4a46-499b-d50c-a2c5e3932935"
      },
      "source": [
        "import pandas as pd\r\n",
        "\r\n",
        "nfa = {}                                 \r\n",
        "n = int(input(\"No. of states : \"))            \r\n",
        "t = int(input(\"No. of transitions : \"))       \r\n",
        "for i in range(n):  \r\n",
        "    state = input(\"state name : \")           \r\n",
        "    nfa[state] = {}                          \r\n",
        "    for j in range(t):\r\n",
        "        path = input(\"path : \")           \r\n",
        "        print(\"Enter end state from state {} travelling through path {} : \".format(state,path))\r\n",
        "        reaching_state = [x for x in input().split()] \r\n",
        "        nfa[state][path] = reaching_state    \r\n",
        "\r\n",
        "print(\"\\nNFA :- \\n\")\r\n",
        "print(nfa)                                   \r\n",
        "print(\"\\nPrinting NFA table :- \")\r\n",
        "nfa_table = pd.DataFrame(nfa)\r\n",
        "print(nfa_table.transpose())\r\n",
        "\r\n",
        "print(\"Enter final state of NFA : \")\r\n",
        "nfa_final_state = [x for x in input().split()]            \r\n",
        "new_states_list = []                         \r\n",
        "dfa = {}                                     \r\n",
        "keys_list = list(list(nfa.keys())[0])                  \r\n",
        "path_list = list(nfa[keys_list[0]].keys())  \r\n",
        "\r\n",
        "dfa[keys_list[0]] = {}                     \r\n",
        "for y in range(t):\r\n",
        "    var = \"\".join(nfa[keys_list[0]][path_list[y]])   \r\n",
        "    dfa[keys_list[0]][path_list[y]] = var            \r\n",
        "    if var not in keys_list:                         #if the state is newly created \r\n",
        "        new_states_list.append(var)                  #then append it to the new_states_list\r\n",
        "        keys_list.append(var)                        #as well as to the keys_list which contains all the states\r\n",
        "\r\n",
        "while len(new_states_list) != 0:                    \r\n",
        "    dfa[new_states_list[0]] = {}                    \r\n",
        "    for _ in range(len(new_states_list[0])):\r\n",
        "        for i in range(len(path_list)):\r\n",
        "            temp = []                                #creating a temporay list\r\n",
        "            for j in range(len(new_states_list[0])):\r\n",
        "                temp += nfa[new_states_list[0][j]][path_list[i]]  #taking the union of the states\r\n",
        "            s = \"\"\r\n",
        "            s = s.join(temp)                         #creating single state by joining states\r\n",
        "            if s not in keys_list:                   #if the state is newly created\r\n",
        "                new_states_list.append(s)            #add new state to list\r\n",
        "                keys_list.append(s)                 \r\n",
        "            dfa[new_states_list[0]][path_list[i]] = s   \r\n",
        "    new_states_list.remove(new_states_list[0])      \r\n",
        "\r\n",
        "print(\"\\nDFA :- \\n\")    \r\n",
        "print(dfa)                                   \r\n",
        "print(\"\\nPrinting DFA table :- \")\r\n",
        "dfa_table = pd.DataFrame(dfa)\r\n",
        "print(dfa_table.transpose())\r\n",
        "\r\n",
        "dfa_states_list = list(dfa.keys())\r\n",
        "dfa_final_states = []\r\n",
        "for x in dfa_states_list:\r\n",
        "    for i in x:\r\n",
        "        if i in nfa_final_state:\r\n",
        "            dfa_final_states.append(x)\r\n",
        "            break\r\n",
        "        \r\n",
        "print(\"\\nFinal states of the DFA are : \",dfa_final_states)    "
      ],
      "execution_count": null,
      "outputs": [
        {
          "output_type": "stream",
          "text": [
            "No. of states : 3\n",
            "No. of transitions : 2\n",
            "state name : A\n",
            "path : 0\n",
            "Enter end state from state A travelling through path 0 : \n",
            "A B\n",
            "path : 1\n",
            "Enter end state from state A travelling through path 1 : \n",
            "A\n",
            "state name : B\n",
            "path : 1\n",
            "Enter end state from state B travelling through path 1 : \n",
            "C\n",
            "path : 0\n",
            "Enter end state from state B travelling through path 0 : \n",
            "\n",
            "state name : C\n",
            "path : 0\n",
            "Enter end state from state C travelling through path 0 : \n",
            "\n",
            "path : 1\n",
            "Enter end state from state C travelling through path 1 : \n",
            "\n",
            "\n",
            "NFA :- \n",
            "\n",
            "{'A': {'0': ['A', 'B'], '1': ['A']}, 'B': {'1': ['C'], '0': []}, 'C': {'0': [], '1': []}}\n",
            "\n",
            "Printing NFA table :- \n",
            "        0    1\n",
            "A  [A, B]  [A]\n",
            "B      []  [C]\n",
            "C      []   []\n",
            "Enter final state of NFA : \n",
            "C\n",
            "\n",
            "DFA :- \n",
            "\n",
            "{'A': {'0': 'AB', '1': 'A'}, 'AB': {'0': 'AB', '1': 'AC'}, 'AC': {'0': 'AB', '1': 'A'}}\n",
            "\n",
            "Printing DFA table :- \n",
            "     0   1\n",
            "A   AB   A\n",
            "AB  AB  AC\n",
            "AC  AB   A\n",
            "\n",
            "Final states of the DFA are :  ['AC']\n"
          ],
          "name": "stdout"
        }
      ]
    },
    {
      "cell_type": "code",
      "metadata": {
        "colab": {
          "base_uri": "https://localhost:8080/"
        },
        "id": "EUAgGWkW89kb",
        "outputId": "81248da4-4046-46f6-8478-e001b2820d08"
      },
      "source": [
        "print (keys_list)"
      ],
      "execution_count": null,
      "outputs": [
        {
          "output_type": "stream",
          "text": [
            "['A', 'AB', 'AC']\n"
          ],
          "name": "stdout"
        }
      ]
    },
    {
      "cell_type": "code",
      "metadata": {
        "colab": {
          "base_uri": "https://localhost:8080/"
        },
        "id": "7gy0YpFo9IzQ",
        "outputId": "dda853b8-617a-4ca8-b9b8-730821be0b1d"
      },
      "source": [
        "print(path_list)"
      ],
      "execution_count": null,
      "outputs": [
        {
          "output_type": "stream",
          "text": [
            "['0', '1']\n"
          ],
          "name": "stdout"
        }
      ]
    }
  ]
}